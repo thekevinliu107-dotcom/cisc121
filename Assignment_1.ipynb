{
  "nbformat": 4,
  "nbformat_minor": 0,
  "metadata": {
    "colab": {
      "provenance": [],
      "include_colab_link": true
    },
    "kernelspec": {
      "name": "python3",
      "display_name": "Python 3"
    },
    "language_info": {
      "name": "python"
    }
  },
  "cells": [
    {
      "cell_type": "markdown",
      "metadata": {
        "id": "view-in-github",
        "colab_type": "text"
      },
      "source": [
        "<a href=\"https://colab.research.google.com/github/thekevinliu107-dotcom/cisc121/blob/main/Assignment_1.ipynb\" target=\"_parent\"><img src=\"https://colab.research.google.com/assets/colab-badge.svg\" alt=\"Open In Colab\"/></a>"
      ]
    },
    {
      "cell_type": "markdown",
      "source": [
        "# CISC 121 – Assignment-1\n",
        "\n",
        "## 🔗 Problem\n",
        "Fizz Buzz – https://leetcode.com/problems/fizz-buzz/\n",
        "\n",
        "Palindrome Number – https://leetcode.com/problems/palindrome-number/\n",
        "\n",
        "Reverse Integer – https://leetcode.com/problems/reverse-integer/\n",
        "\n",
        "Two Sum – https://leetcode.com/problems/two-sum/\n",
        "\n",
        "Valid Palindrome – https://leetcode.com/problems/valid-palindrome/\n"
      ],
      "metadata": {
        "id": "sAREeEgkZ515"
      }
    },
    {
      "cell_type": "markdown",
      "source": [
        "# ***Problem 1: Fizz Buzz***"
      ],
      "metadata": {
        "id": "rAwLuBzFZxf3"
      }
    },
    {
      "cell_type": "markdown",
      "source": [
        "1. Your Name: Kevin Liu\n",
        "2. Section: 121\n",
        "3. ID: 20523039\n",
        "4. Github Link of this notebook: https://github.com/thekevinliu107-dotcom/cisc121/blob/main/Assignment_1.ipynb\n",
        "5. Chat/ (Saved Chat in a shared Document link): Did not use (used suggestions from built in Gemini)"
      ],
      "metadata": {
        "id": "Rk0zPXBo8Hma"
      }
    },
    {
      "cell_type": "markdown",
      "source": [
        "## 1. Understanding & Breakdown\n",
        "\n",
        "My task was to print numbers from replacing # divisible by 3 with Fizz, 5 with Buzz, and those divisible by 3 and 5 with FizzBuzz. Now to do this I will obtain an integer input from the user and put it inside an array. Finally loop 1 to user's input  to check if divisible by any 3,5 or both and append to result."
      ],
      "metadata": {
        "id": "ZXL05Des8Hma"
      }
    },
    {
      "cell_type": "markdown",
      "source": [
        "## 2. Peer Review & Draft Code\n",
        "\n",
        "I found that this method I mentioned already works pretty well, and it was in many solutions so I stuck with the looping and checking through if statements.\n",
        "\n"
      ],
      "metadata": {
        "id": "H89F5UUl8Hmb"
      }
    },
    {
      "cell_type": "code",
      "source": [
        "# Your draft code here (does not need to be fully correct)\n",
        "list = []\n",
        "loop code\n",
        "if code\n",
        "return result"
      ],
      "metadata": {
        "id": "za__2OVj8Hmb"
      },
      "execution_count": null,
      "outputs": []
    },
    {
      "cell_type": "markdown",
      "source": [
        "## 3. Final Correct Code\n"
      ],
      "metadata": {
        "id": "Hw5-yQyR8Hmb"
      }
    },
    {
      "cell_type": "code",
      "source": [
        "def fizz_buzz(input):\n",
        "  fz_list = [] # list to store results\n",
        "\n",
        "  # loop through all numbers from 1 up to n\n",
        "  for i in range(1, userInput + 1):\n",
        "\n",
        "    if (input % 3==0) and (input % 5 ==0): # check number divisible by both 3, 5\n",
        "      fz_list.append(\"FizzBuzz\")\n",
        "    elif i % 3 == 0: # if number divisible by 3\n",
        "      fz_list.append(\"Fizz\")\n",
        "    elif i % 5 == 0: # if number divisible by 5\n",
        "      fz_list.append(\"Buzz\")\n",
        "    else:\n",
        "      fz_list.append(str(i)) # else add int itself to list\n",
        "\n",
        "  return fz_list\n",
        "\n",
        "userInput = int(input(\"Enter a number: \"))\n",
        "\n",
        "print(fizz_buzz(userInput))\n",
        "# [AI Disclaimer: Used Gemini with prompt “How to integrate userInput properly”]"
      ],
      "metadata": {
        "colab": {
          "base_uri": "https://localhost:8080/"
        },
        "outputId": "3e58aedb-dc55-4a53-9c91-c578ee095d84",
        "id": "jOqlRFEd8Hmb"
      },
      "execution_count": null,
      "outputs": [
        {
          "output_type": "stream",
          "name": "stdout",
          "text": [
            "Enter a number: 10\n",
            "['1', '2', 'Fizz', '4', 'Buzz', 'Fizz', '7', '8', 'Fizz', 'Buzz']\n"
          ]
        }
      ]
    },
    {
      "cell_type": "markdown",
      "source": [
        "Add the screenshot of output for all the test cases from your working solutions.\n",
        "![Screenshot 2025-09-20 115309.png](data:image/png;base64,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)"
      ],
      "metadata": {
        "id": "Utu5ziCq8Hmc"
      }
    },
    {
      "cell_type": "markdown",
      "source": [
        "## 4. Review & Fixes\n",
        "_What did you improve from your draft? 2 fixes with your comments._\n",
        "\n"
      ],
      "metadata": {
        "id": "JNkmfDko8Hmc"
      }
    },
    {
      "cell_type": "code",
      "source": [
        "# Fix 1: Deleted unnecessary code\n",
        "\n",
        "# Draft version: did not properly output original int\n",
        "if (input % 3==0) and (input % 5 ==0): # check number divisible by both 3, 5\n",
        "      fz_list.append(\"FizzBuzz\")\n",
        "    elif i % 3 == 0: # if number divisible by 3\n",
        "      fz_list.append(\"Fizz\")\n",
        "    else i % 5 == 0: # if number divisible by 5\n",
        "      fz_list.append(\"Buzz\")\n",
        "\n",
        "# Fixed version: properly outputs numbers not fizz, buzz or fizzbuzz\n",
        "if (input % 3==0) and (input % 5 ==0): # check number divisible by both 3, 5\n",
        "      fz_list.append(\"FizzBuzz\")\n",
        "    elif i % 3 == 0: # if number divisible by 3\n",
        "      fz_list.append(\"Fizz\")\n",
        "    elif i % 5 == 0: # if number divisible by 5\n",
        "      fz_list.append(\"Buzz\")\n",
        "    else:\n",
        "      fz_list.append(str(i)) # else add int itself to list"
      ],
      "metadata": {
        "id": "wZiFguSQ8Hmc"
      },
      "execution_count": null,
      "outputs": []
    },
    {
      "cell_type": "code",
      "source": [
        "# Fix 2: Bad naming convention\n",
        "\n",
        "# Draft version: overwrote built in function\n",
        "list = [] # list to store results\n",
        "\n",
        "# Fixed version: made it work like a list\n",
        "fz_list = [] # list to store results\n"
      ],
      "metadata": {
        "id": "CLGgi0rd8Hmc"
      },
      "execution_count": null,
      "outputs": []
    },
    {
      "cell_type": "markdown",
      "source": [
        "## 5. Reflection on Your Contribution\n",
        "\n",
        "1. I used Gemini (Level 4) to help fix userInput not popping up as the first code ran. This was because I left fizz_buzz as input in brackets instead of userInput.\n"
      ],
      "metadata": {
        "id": "N0zANars8Hmc"
      }
    },
    {
      "cell_type": "markdown",
      "source": [
        "# ***Problem 2: Palindrome Number***"
      ],
      "metadata": {
        "id": "KUjI2VZve6xh"
      }
    },
    {
      "cell_type": "markdown",
      "source": [
        "1. Your Name: Kevin Liu\n",
        "2. Section: 121\n",
        "3. ID: 20523039\n",
        "4. Github Link of this notebook: https://github.com/thekevinliu107-dotcom/cisc121/blob/main/Assignment_1.ipynb\n",
        "5. Chat/ (Saved Chat in a shared Document link) Did not use (used suggestions from built in Gemini)"
      ],
      "metadata": {
        "id": "JkpwViGu9OlZ"
      }
    },
    {
      "cell_type": "markdown",
      "source": [
        "## 1. Understanding & Breakdown\n",
        "\n",
        "First take user input, check if negative. When x is less than 0 return false. Convert number to string then use code to reverse it i.e slicing. Compare orignal to reversed."
      ],
      "metadata": {
        "id": "D1u7agsf-DkZ"
      }
    },
    {
      "cell_type": "markdown",
      "source": [
        "## 2. Peer Review & Draft Code\n",
        "\n",
        "For the most part, this was the method I liked most to solving this leetcode so I stuck with it. If I can understand it best it does not matter to me if there are other codes that do the same thing.\n",
        "\n"
      ],
      "metadata": {
        "id": "GSXPVqc1-Dka"
      }
    },
    {
      "cell_type": "code",
      "source": [
        "# Your draft code here (does not need to be fully correct)\n",
        "class Solution\n",
        "if x < 0 False\n",
        "str(x)\n",
        "s[::-1]"
      ],
      "metadata": {
        "id": "EwP48wpr-Dka"
      },
      "execution_count": null,
      "outputs": []
    },
    {
      "cell_type": "markdown",
      "source": [
        "## 3. Final Correct Code"
      ],
      "metadata": {
        "id": "n7gVC8NJ-Dka"
      }
    },
    {
      "cell_type": "code",
      "source": [
        "# Final working solution\n",
        "class Solution:\n",
        "  def isPalindrome(self, x: int) -> bool: # assigns \"-\" if less than 0\n",
        "\n",
        "    # negative never palindrome\n",
        "    if x < 0:\n",
        "      return False\n",
        "\n",
        "    # checks if same forwards and backwards\n",
        "    s = str(x)\n",
        "    return s == s[::-1]\n",
        "\n",
        "# user input\n",
        "userInput = int(input(\"Enter a number: \"))\n",
        "print(sol.isPalindrome(userInput))\n",
        "# [AI Disclaimer: Used Gemini with prompt “How to handle reverse string” for the s[::-1] code]\n"
      ],
      "metadata": {
        "id": "Fo5TNoui-Dka",
        "colab": {
          "base_uri": "https://localhost:8080/"
        },
        "outputId": "6edc0260-b4ba-47f9-9d19-4def7d88257b"
      },
      "execution_count": null,
      "outputs": [
        {
          "output_type": "stream",
          "name": "stdout",
          "text": [
            "Enter a number: 121\n",
            "True\n"
          ]
        }
      ]
    },
    {
      "cell_type": "markdown",
      "source": [
        "Add the screenshot of output for all the test cases from your working solutions.\n",
        "![image.png](data:image/png;base64,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)"
      ],
      "metadata": {
        "id": "NvZU4WPR-Dkb"
      }
    },
    {
      "cell_type": "markdown",
      "source": [
        "## 4. Review & Fixes\n",
        "_What did you improve from your draft? 2 fixes with your comments._\n",
        "\n"
      ],
      "metadata": {
        "id": "FTQ859X9-Dkb"
      }
    },
    {
      "cell_type": "code",
      "source": [
        "# Fix 1: Deleted unnecessary code\n",
        "\n",
        "# Draft version (object sol to call class)\n",
        "sol = Solution()\n",
        "\n",
        "# Fixed version (realized did not need and it still functioned)"
      ],
      "metadata": {
        "id": "X0nMYodk-Dkb"
      },
      "execution_count": null,
      "outputs": []
    },
    {
      "cell_type": "code",
      "source": [
        "# Fix 2: Bad naming convention\n",
        "\n",
        "# Draft version: this too vague\n",
        "if this < 0:\n",
        "      return False\n",
        "\n",
        "# Fixed version: x is simpler, cleaner\n",
        "if x < 0:\n",
        "      return False\n"
      ],
      "metadata": {
        "id": "r36FnpLK-Dkb"
      },
      "execution_count": null,
      "outputs": []
    },
    {
      "cell_type": "markdown",
      "source": [
        "## 5. Reflection on Your Contribution\n",
        "\n",
        "1. I used Gemini (Level 4) to help with the slicing code, since I did not know -1 was the integer to reverse the entire userInput.\n",
        "\n"
      ],
      "metadata": {
        "id": "iTSVuP6q-Dkb"
      }
    },
    {
      "cell_type": "markdown",
      "source": [
        "# ***Problem 3: Reverse Integer***"
      ],
      "metadata": {
        "id": "xY-x72XBe8Og"
      }
    },
    {
      "cell_type": "markdown",
      "source": [
        "1. Your Name: Kevin Liu\n",
        "2. Section: 121\n",
        "3. ID: 20523039\n",
        "4. Github Link of this notebook: https://github.com/thekevinliu107-dotcom/cisc121/blob/main/Assignment_1.ipynb\n",
        "5. Chat/ (Saved Chat in a shared Document link) Did not use (used suggestions from built in Gemini)"
      ],
      "metadata": {
        "id": "mdAre2gb9PVO"
      }
    },
    {
      "cell_type": "markdown",
      "source": [
        "## 1. Understanding & Breakdown\n",
        "\n",
        "Take input as integer and create instance of the Solution class. Call method to reverse. This method checks for negative numbers, reverses and converts to integer, process a lot like the palindrome number."
      ],
      "metadata": {
        "id": "-Gvs5JV3BcbF"
      }
    },
    {
      "cell_type": "markdown",
      "source": [
        "## 2. Peer Review & Draft Code\n",
        "\n",
        "I was going to build the algorithm manually like before but realized that for my next three programs there are built in methods for this so I can call upon them.\n",
        "\n",
        "Edit: gemini based. The method that is recommended now is to take integer and reverse digits. Then goes through digit by digit making the new reversed. After reversal, puts original sign back. Has to fit within 32 bit range."
      ],
      "metadata": {
        "id": "bYds3bHCBcbG"
      }
    },
    {
      "cell_type": "code",
      "source": [
        "# Your draft code here (does not need to be fully correct)\n",
        "userInput\n",
        "output sol.reverse\n",
        "print"
      ],
      "metadata": {
        "id": "Efi0_D8mBcbG"
      },
      "execution_count": null,
      "outputs": []
    },
    {
      "cell_type": "markdown",
      "source": [
        "## 3. Final Correct Code\n",
        "\n",
        "_This version must pass all required test cases and handle edge cases correctly._\n",
        "\n",
        "At this stage, you may:\n",
        "- Use reviewed solutions or programming AI tools (e.g., Gemini, GitHub Copilot) to refine and fix errors.\n",
        "- Refactor your draft to ensure accuracy and completeness.\n",
        "\n",
        " **AI Level 4 is allowed**, but you **must include a disclaimer** that clearly states what tools you used, how you used them, and for which part of the code.\n"
      ],
      "metadata": {
        "id": "BrZrCzCQBcbG"
      }
    },
    {
      "cell_type": "code",
      "source": [
        "userInput = int(input(\"Enter a number to reverse: \")) # user input\n",
        "sol = Solution() # instance of solution class\n",
        "\n",
        "# reverse int method\n",
        "output = sol.reverse(userInput) # reverses\n",
        "print(f\"Input: {userInput}, Output: {output}\")"
      ],
      "metadata": {
        "colab": {
          "base_uri": "https://localhost:8080/"
        },
        "outputId": "7c92892e-a1e8-423f-c969-5c0922d67cf4",
        "id": "BoVaCqbABcbG"
      },
      "execution_count": null,
      "outputs": [
        {
          "output_type": "stream",
          "name": "stdout",
          "text": [
            "Enter a number to reverse: 100\n",
            "Input: 100, Output: 1\n"
          ]
        }
      ]
    },
    {
      "cell_type": "code",
      "metadata": {
        "id": "a88e3933"
      },
      "source": [
        "class Solution:\n",
        "    def reverse(self, x: int) -> int:\n",
        "        # Handle the sign of the integer\n",
        "        sign = -1 if x < 0 else 1\n",
        "        x = abs(x)\n",
        "\n",
        "        # Reverse the integer\n",
        "        reversed_x = 0\n",
        "        while x != 0:\n",
        "            digit = x % 10\n",
        "            reversed_x = reversed_x * 10 + digit\n",
        "            x //= 10\n",
        "\n",
        "        # Apply the original sign\n",
        "        reversed_x *= sign\n",
        "\n",
        "        # Check for 32-bit integer overflow\n",
        "        if reversed_x < -2**31 or reversed_x > 2**31 - 1:\n",
        "            return 0\n",
        "        else:\n",
        "            return reversed_x\n",
        "# [AI Disclaimer: Used Gemini with prompt “How to make my instance of Solution class work\" for the reverse]"
      ],
      "execution_count": null,
      "outputs": []
    },
    {
      "cell_type": "markdown",
      "source": [
        "Add the screenshot of output for all the test cases from your working solutions.\n",
        "![image.png](data:image/png;base64,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)"
      ],
      "metadata": {
        "id": "IKQiS2YbBcbG"
      }
    },
    {
      "cell_type": "markdown",
      "source": [
        "## 4. Review & Fixes\n",
        "_What did you improve from your draft? 2 fixes with your comments._\n",
        "\n"
      ],
      "metadata": {
        "id": "Il2ImKwcBcbI"
      }
    },
    {
      "cell_type": "code",
      "source": [
        "# Fix 1: Lacked instance of sol\n",
        "\n",
        "# Draft version: only userInput\n",
        "userInput = int(input(\"Enter a number to reverse: \")) # user input\n",
        "\n",
        "# Fixed version: userInput with instance of sol\n",
        "userInput = int(input(\"Enter a number to reverse: \")) # user input\n",
        "sol = Solution() # instance of solution class"
      ],
      "metadata": {
        "id": "gdSjsSn4BcbI"
      },
      "execution_count": null,
      "outputs": []
    },
    {
      "cell_type": "code",
      "source": [
        "# Fix 2: Lacked the f string\n",
        "\n",
        "# Draft version: no f string\n",
        "print(\"Input: {userInput}, Output: {output}\")\n",
        "\n",
        "# Fixed version: with f string\n",
        "print(f\"Input: {userInput}, Output: {output}\")\n"
      ],
      "metadata": {
        "id": "FCIx9dEBBcbI"
      },
      "execution_count": null,
      "outputs": []
    },
    {
      "cell_type": "markdown",
      "source": [
        "## 5. Reflection on Your Contribution\n",
        "\n",
        "1. I used Gemini (Level 4) to help calling upon the built in method.\n",
        "\n"
      ],
      "metadata": {
        "id": "1mr48_D2BcbJ"
      }
    },
    {
      "cell_type": "markdown",
      "source": [
        "# ***Problem 4: Two Sum***"
      ],
      "metadata": {
        "id": "KssgUwp7e8V-"
      }
    },
    {
      "cell_type": "markdown",
      "source": [
        "1. Your Name: Kevin Liu\n",
        "2. Section: 121\n",
        "3. ID: 20523039\n",
        "4. Github Link of this notebook: https://github.com/thekevinliu107-dotcom/cisc121/blob/main/Assignment_1.ipynb\n",
        "5. Chat/ (Saved Chat in a shared Document link) Did not use (used suggestions from built in Gemini)"
      ],
      "metadata": {
        "id": "3zfI7Z7B9P5L"
      }
    },
    {
      "cell_type": "markdown",
      "source": [
        "## 1. Understanding & Breakdown\n",
        "\n",
        "Input as comma seperated string. Make list nums and take user input for target integer. Instance of Solution class. Call twoSum method. This loops through list and checks for 2 numbers that add to user target integer."
      ],
      "metadata": {
        "id": "aJVpyVweHga6"
      }
    },
    {
      "cell_type": "markdown",
      "source": [
        "## 2. Peer Review & Draft Code\n",
        "\n",
        "I was completely wrong about the built in methods, I only assumed so because gemini automatically made the pre built in methods for me when I got it to explain the errors. What is basically recommended is that I should go through each number one by one, calculating complement to see if it adds to target. If already seen returns complement and the numbers. If not it continues adding. It is a faster way without going through every single combination."
      ],
      "metadata": {
        "id": "s5PmNcjOHga7"
      }
    },
    {
      "cell_type": "code",
      "source": [
        "# Your draft code here (does not need to be fully correct)\n",
        "nums input = input # user input for list\n",
        "target\n",
        "sol = Solution()\n",
        "result and print"
      ],
      "metadata": {
        "id": "ntbpeM0fHga7"
      },
      "execution_count": null,
      "outputs": []
    },
    {
      "cell_type": "markdown",
      "source": [
        "## 3. Final Correct Code"
      ],
      "metadata": {
        "id": "5q7nf76QHga7"
      }
    },
    {
      "cell_type": "code",
      "source": [
        "# get user input for the list of numbers\n",
        "nums_input = input(\"Enter values (with commas): \")\n",
        "nums = [int(x) for x in nums_input.split(',')]\n",
        "\n",
        "target = int(input(\"Enter the target number: \")) # user input for the target\n",
        "\n",
        "sol = Solution() # instance of solution class\n",
        "\n",
        "# call the twoSum method and print the result\n",
        "result = sol.twoSum(nums, target)\n",
        "print(f\"Input nums: {nums}, target: {target}, Output indices: {result}\")"
      ],
      "metadata": {
        "colab": {
          "base_uri": "https://localhost:8080/"
        },
        "outputId": "cc6b307b-0d66-4254-a515-f7e5950cf3b5",
        "id": "IwIAsYbrHga8"
      },
      "execution_count": null,
      "outputs": [
        {
          "output_type": "stream",
          "name": "stdout",
          "text": [
            "Enter values (with commas): 2,3\n",
            "Enter the target number: 5\n",
            "Input nums: [2, 3], target: 5, Output indices: [0, 1]\n"
          ]
        }
      ]
    },
    {
      "cell_type": "code",
      "metadata": {
        "id": "ad62a9a3"
      },
      "source": [
        "class Solution:\n",
        "    def twoSum(self, nums, target):\n",
        "        # Create a dictionary to store the numbers and their indices\n",
        "        num_map = {}\n",
        "\n",
        "        # Iterate through the list of numbers\n",
        "        for index, num in enumerate(nums):\n",
        "            # Calculate the complement needed to reach the target\n",
        "            complement = target - num\n",
        "\n",
        "            # Check if the complement is already in the dictionary\n",
        "            if complement in num_map:\n",
        "                # If found, return the indices of the complement and the current number\n",
        "                return [num_map[complement], index]\n",
        "\n",
        "            # Otherwise, add the current number and its index to the dictionary\n",
        "            num_map[num] = index\n",
        "\n",
        "        # If no solution is found, return an empty list or raise an error (depending on problem constraints)\n",
        "        return []\n",
        "# [AI Disclaimer: Used Gemini with prompt “How to make my instance of Solution class work” for the twoSum]"
      ],
      "execution_count": null,
      "outputs": []
    },
    {
      "cell_type": "markdown",
      "source": [
        "Add the screenshot of output for all the test cases from your working solutions.\n",
        "![image.png](data:image/png;base64,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)"
      ],
      "metadata": {
        "id": "kYdgF0m6Hga8"
      }
    },
    {
      "cell_type": "markdown",
      "source": [
        "## 4. Review & Fixes\n",
        "_What did you improve from your draft? 2 fixes with your comments._\n",
        "\n"
      ],
      "metadata": {
        "id": "fMCwiglvHga9"
      }
    },
    {
      "cell_type": "code",
      "source": [
        "# Fix 1: Forgot to include instance of sol again since I did not need it last time\n",
        "\n",
        "# Draft version: no instance of sol\n",
        "\n",
        "# Fixed version: instance of sol\n",
        "sol = Solution() # instance of solution class"
      ],
      "metadata": {
        "id": "LU-6M6kuHga9"
      },
      "execution_count": null,
      "outputs": []
    },
    {
      "cell_type": "code",
      "source": [
        "# Fix 2: TypeError\n",
        "\n",
        "# Draft version: put target before nums\n",
        "result = sol.twoSum(target, nums)\n",
        "\n",
        "# Fixed version: should be list nums, integer target\n",
        "result = sol.twoSum(nums, target)"
      ],
      "metadata": {
        "id": "y4LKpbejHga9"
      },
      "execution_count": null,
      "outputs": []
    },
    {
      "cell_type": "markdown",
      "source": [
        "## 5. Reflection on Your Contribution\n",
        "\n",
        "1. I used Gemini (Level 4) to build the method for the Solution class.\n",
        "\n"
      ],
      "metadata": {
        "id": "GbIeFepRHga-"
      }
    },
    {
      "cell_type": "markdown",
      "source": [
        "# ***Problem 5: Valid Palindrome***"
      ],
      "metadata": {
        "id": "kv-G6Yz7e8dr"
      }
    },
    {
      "cell_type": "markdown",
      "source": [
        "1. Your Name: Kevin Liu\n",
        "2. Section: 121\n",
        "3. ID: 20523039\n",
        "4. Github Link of this notebook: https://github.com/thekevinliu107-dotcom/cisc121/blob/main/Assignment_1.ipynb\n",
        "5. Chat/ (Saved Chat in a shared Document link) Did not use (used suggestions from built in Gemini)"
      ],
      "metadata": {
        "id": "7odHWJSn9Qxe"
      }
    },
    {
      "cell_type": "markdown",
      "source": [
        "## 1. Understanding & Breakdown\n",
        "\n",
        "First make an userInput for string and save as variable. Then create instance of Solution class to call upon built in method. Send user's input into isPalindrome method. Return T/F."
      ],
      "metadata": {
        "id": "r9EKMWjKIQP3"
      }
    },
    {
      "cell_type": "markdown",
      "source": [
        "## 2. Peer Review & Draft Code\n",
        "\n",
        "I learned from gemini that I can clean the string so special characters don't matter. Then I can keep the string ignoring all those special characters and make everything lowercase. Afterwards, the cleaned version can be matched to original and if the same, return true."
      ],
      "metadata": {
        "id": "aUHzVrY4cTX0"
      }
    },
    {
      "cell_type": "code",
      "source": [
        "# Your draft code here (does not need to be fully correct)\n",
        "input string\n",
        "sol = Solution()\n",
        "result = sol.isPalindrome(input_string)\n",
        "print(f\"If: '{input_string}', is a Palindrome? Answer: {result}\")"
      ],
      "metadata": {
        "id": "NPk65D2zciQV"
      },
      "execution_count": null,
      "outputs": []
    },
    {
      "cell_type": "markdown",
      "source": [
        "## 3. Final Correct Code"
      ],
      "metadata": {
        "id": "Om2fMRWLceyo"
      }
    },
    {
      "cell_type": "code",
      "source": [
        "# user input for the string\n",
        "input_string = input(\"Enter a string to check for palindrome: \")\n",
        "\n",
        "sol = Solution() # instance of solution class\n",
        "\n",
        "# call validPalindrome method\n",
        "result = sol.isPalindrome(input_string)\n",
        "print(f\"If: '{input_string}', is a Palindrome? Answer: {result}\")"
      ],
      "metadata": {
        "id": "CukQ_t3xcuDV",
        "colab": {
          "base_uri": "https://localhost:8080/"
        },
        "outputId": "bfe2f54f-ceb0-438c-e04b-b64e8101bb81"
      },
      "execution_count": null,
      "outputs": [
        {
          "output_type": "stream",
          "name": "stdout",
          "text": [
            "Enter a string to check for palindrome: A man, a plan, a canal: Panama\n",
            "If: 'A man, a plan, a canal: Panama', is a Palindrome? Answer: True\n"
          ]
        }
      ]
    },
    {
      "cell_type": "code",
      "source": [
        "class Solution:\n",
        "    def isPalindrome(self, s: str) -> bool:\n",
        "        # Remove non-alphanumeric characters and convert to lowercase\n",
        "        cleaned_s = \"\".join(char for char in s if char.isalnum()).lower()\n",
        "\n",
        "        # Check if the cleaned string is a palindrome\n",
        "        return cleaned_s == cleaned_s[::-1]\n",
        "# [AI Disclaimer: Used Gemini with prompt “How to make my instance of Solution class work” for the Valid Palindrome]"
      ],
      "metadata": {
        "id": "tWC0NVCDOfUo"
      },
      "execution_count": null,
      "outputs": []
    },
    {
      "cell_type": "markdown",
      "source": [
        "Add the screenshot of output for all the test cases from your working solutions.\n",
        "![image.png](data:image/png;base64,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)"
      ],
      "metadata": {
        "id": "n-a6rKrlUyQP"
      }
    },
    {
      "cell_type": "markdown",
      "source": [
        "## 4. Review & Fixes\n",
        "_What did you improve from your draft? 2 fixes with your comments._\n",
        "\n"
      ],
      "metadata": {
        "id": "fJrDhzvMcxVN"
      }
    },
    {
      "cell_type": "code",
      "source": [
        "# Fix 1: Forgot f string\n",
        "\n",
        "# Draft version: normal string\n",
        "print(\"If: '{input_string}', is a Palindrome? Answer: {result}\")\n",
        "\n",
        "# Fixed version: made it f string\n",
        "print(f\"If: '{input_string}', is a Palindrome? Answer: {result}\")\n"
      ],
      "metadata": {
        "id": "tzEAjBgfMtod"
      },
      "execution_count": null,
      "outputs": []
    },
    {
      "cell_type": "code",
      "source": [
        "# Fix 2: Bad naming convention\n",
        "\n",
        "# Draft version: vague, works for other codes but not this\n",
        "userInput = input(\"Enter a string to check for palindrome: \")\n",
        "\n",
        "# Fixed version: input_string is more specific\n",
        "input_string = input(\"Enter a string to check for palindrome: \")\n"
      ],
      "metadata": {
        "id": "ElfXHAqFMzQT"
      },
      "execution_count": null,
      "outputs": []
    },
    {
      "cell_type": "markdown",
      "source": [
        "## 5. Reflection on Your Contribution\n",
        "\n",
        "1. I used Gemini (Level 4) to build the method for the Solution class to solve Valid Palindrome since I was under the assumption it was built in.\n",
        "\n"
      ],
      "metadata": {
        "id": "QfK-i2ITc4MU"
      }
    },
    {
      "cell_type": "markdown",
      "source": [
        "#  Repeat this template for Problems 2–5\n",
        "You may copy-paste the above section 4 more times or duplicate cells in your notebook environment.\n",
        "\n",
        "Remember:\n",
        "Proper attribution  \n",
        "No copy-pasting from AI or others  \n",
        "\n",
        "\n"
      ],
      "metadata": {
        "id": "USwRg1coc-BO"
      }
    },
    {
      "cell_type": "markdown",
      "source": [
        "1. Your Name:\n",
        "2. Section:\n",
        "3. ID:\n",
        "4. Github Link of this notebook:\n",
        "5. Chat/ (Saved Chat in a shared Document link)"
      ],
      "metadata": {
        "id": "SYt5mNEYdMHJ"
      }
    },
    {
      "cell_type": "markdown",
      "source": [
        "# **The most important part of writing code is not the code itself, but the thinking that leads to it. Thank You**"
      ],
      "metadata": {
        "id": "YR8usq_lVloZ"
      }
    }
  ]
}