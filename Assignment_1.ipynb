{
  "nbformat": 4,
  "nbformat_minor": 0,
  "metadata": {
    "colab": {
      "provenance": [],
      "include_colab_link": true
    },
    "kernelspec": {
      "name": "python3",
      "display_name": "Python 3"
    },
    "language_info": {
      "name": "python"
    }
  },
  "cells": [
    {
      "cell_type": "markdown",
      "metadata": {
        "id": "view-in-github",
        "colab_type": "text"
      },
      "source": [
        "<a href=\"https://colab.research.google.com/github/thekevinliu107-dotcom/cisc121/blob/main/Assignment_1.ipynb\" target=\"_parent\"><img src=\"https://colab.research.google.com/assets/colab-badge.svg\" alt=\"Open In Colab\"/></a>"
      ]
    },
    {
      "cell_type": "markdown",
      "source": [
        "# CISC 121 – Assignment-1\n",
        "\n",
        "## 🔗 Problem\n",
        "Fizz Buzz – https://leetcode.com/problems/fizz-buzz/\n",
        "\n",
        "Palindrome Number – https://leetcode.com/problems/palindrome-number/\n",
        "\n",
        "Reverse Integer – https://leetcode.com/problems/reverse-integer/\n",
        "\n",
        "Two Sum – https://leetcode.com/problems/two-sum/\n",
        "\n",
        "Valid Palindrome – https://leetcode.com/problems/valid-palindrome/\n"
      ],
      "metadata": {
        "id": "sAREeEgkZ515"
      }
    },
    {
      "cell_type": "markdown",
      "source": [
        "#  Problem 1: Fizz Buzz"
      ],
      "metadata": {
        "id": "rAwLuBzFZxf3"
      }
    },
    {
      "cell_type": "markdown",
      "source": [
        "1. Your Name: Kevin Liu\n",
        "2. Section: 121\n",
        "3. ID: 20523039\n",
        "4. Github Link of this notebook:\n",
        "5. Chat/ (Saved Chat in a shared Document link)"
      ],
      "metadata": {
        "id": "_bqlo0uS3ZT2"
      }
    },
    {
      "cell_type": "code",
      "source": [
        "def fizz_buzz(input):\n",
        "  fz_list = [] # list to store results\n",
        "\n",
        "  # loop through all numbers from 1 up to n\n",
        "  for i in range(1, n + 1):\n",
        "\n",
        "    if (input % 3==0) and (input % 5 ==0): # check number divisible by both 3, 5\n",
        "      fz_list.append(\"FizzBuzz\")\n",
        "    elif i % 3 == 0: # if number divisible by 3\n",
        "      fz_list.append(\"Fizz\")\n",
        "    elif i % 5 == 0: # if number divisible by 5\n",
        "      fz_list.append(\"Buzz\")\n",
        "    else:\n",
        "      fz_list.append(str(i)) # else add int itself to list\n",
        "\n",
        "  return fz_list\n",
        "\n",
        "userInput = int(input(\"Enter a number: \"))\n",
        "\n",
        "print(fizz_buzz(userInput))"
      ],
      "metadata": {
        "colab": {
          "base_uri": "https://localhost:8080/"
        },
        "id": "s_ajQGSnuN-3",
        "outputId": "520169ba-f7c1-49a4-9b5f-b8c7d727ac36"
      },
      "execution_count": null,
      "outputs": [
        {
          "output_type": "stream",
          "name": "stdout",
          "text": [
            "Enter a number: 15\n",
            "['FizzBuzz', 'FizzBuzz', 'FizzBuzz', 'FizzBuzz', 'FizzBuzz']\n"
          ]
        }
      ]
    },
    {
      "cell_type": "markdown",
      "source": [
        "#  Problem 2 Palindrome Number"
      ],
      "metadata": {
        "id": "KUjI2VZve6xh"
      }
    },
    {
      "cell_type": "code",
      "source": [
        "class Solution:\n",
        "  def isPalindrome(self, x: int) -> bool: # assigns \"-\" if less than 0\n",
        "\n",
        "    # negative never palindrome\n",
        "    if x < 0:\n",
        "      return False\n",
        "\n",
        "    # checks if same forwards and backwards\n",
        "    s = str(x)\n",
        "    return s == s[::-1]\n",
        "\n",
        "# user input\n",
        "userInput = int(input(\"Enter a number: \"))\n",
        "sol = Solution()\n",
        "print(sol.isPalindrome(userInput))"
      ],
      "metadata": {
        "colab": {
          "base_uri": "https://localhost:8080/"
        },
        "id": "DoW1o9im0Z41",
        "outputId": "4e3792a7-64ec-4a8c-cc0a-0719e23f44b5"
      },
      "execution_count": null,
      "outputs": [
        {
          "output_type": "stream",
          "name": "stdout",
          "text": [
            "Enter a number: 212\n",
            "True\n"
          ]
        }
      ]
    },
    {
      "cell_type": "markdown",
      "source": [
        "#  Problem 3: Reverse Integer"
      ],
      "metadata": {
        "id": "xY-x72XBe8Og"
      }
    },
    {
      "cell_type": "code",
      "source": [
        "userInput = int(input(\"Enter a number to reverse: \")) # user input\n",
        "sol = Solution() # instance of solution class\n",
        "\n",
        "# reverse int method\n",
        "output = sol.reverse(userInput) # reverses\n",
        "print(f\"Input: {userInput}, Output: {output}\")"
      ],
      "metadata": {
        "id": "W50pyYnv4F2x",
        "colab": {
          "base_uri": "https://localhost:8080/"
        },
        "outputId": "7252d21e-2ac5-4f0d-a6da-0c72bd5f142a"
      },
      "execution_count": null,
      "outputs": [
        {
          "output_type": "stream",
          "name": "stdout",
          "text": [
            "Enter a number to reverse: 50\n",
            "Input: 50, Output: 5\n"
          ]
        }
      ]
    },
    {
      "cell_type": "markdown",
      "source": [
        "#  Problem 4: Two Sum"
      ],
      "metadata": {
        "id": "KssgUwp7e8V-"
      }
    },
    {
      "cell_type": "code",
      "metadata": {
        "colab": {
          "base_uri": "https://localhost:8080/"
        },
        "id": "ce250d29",
        "outputId": "920e572f-15b5-4c91-ad2d-29bd0c2b8adc"
      },
      "source": [
        "# get user input for the list of numbers\n",
        "nums_input = input(\"Enter values (with commas): \")\n",
        "nums = [int(x) for x in nums_input.split(',')]\n",
        "\n",
        "target = int(input(\"Enter the target number: \")) # user input for the target\n",
        "\n",
        "sol = Solution() # instance of solution class\n",
        "\n",
        "# call the twoSum method and print the result\n",
        "result = sol.twoSum(nums, target)\n",
        "print(f\"Input nums: {nums}, target: {target}, Output indices: {result}\")"
      ],
      "execution_count": null,
      "outputs": [
        {
          "output_type": "stream",
          "name": "stdout",
          "text": [
            "Enter values (with commas): 2,7,11,15\n",
            "Enter the target number: 9\n",
            "Input nums: [2, 7, 11, 15], target: 9, Output indices: [0, 1]\n"
          ]
        }
      ]
    },
    {
      "cell_type": "markdown",
      "source": [
        "#  Problem 5: Valid Palindrome"
      ],
      "metadata": {
        "id": "kv-G6Yz7e8dr"
      }
    },
    {
      "cell_type": "code",
      "metadata": {
        "colab": {
          "base_uri": "https://localhost:8080/"
        },
        "id": "9982cfd4",
        "outputId": "1d375212-f21a-408e-8e91-e79c37cfba02"
      },
      "source": [
        "# user input for the string\n",
        "input_string = input(\"Enter a string to check for palindrome: \")\n",
        "\n",
        "sol = Solution() # instance of solution class\n",
        "\n",
        "# call validPalindrome method\n",
        "result = sol.isPalindrome(input_string)\n",
        "print(f\"Input string: '{input_string}', is a Palindrome: {result}\")"
      ],
      "execution_count": null,
      "outputs": [
        {
          "output_type": "stream",
          "name": "stdout",
          "text": [
            "Enter a string to check for palindrome: ok\n",
            "Input string: 'ok', is a Palindrome: False\n"
          ]
        }
      ]
    },
    {
      "cell_type": "markdown",
      "source": [
        "## 1. Understanding & Breakdown\n",
        "\n",
        "_Understand the problem, inputs/outputs, constraints, and  write down your plan or steps to solve the problem or draw the flowchart using digital or real pen-paper. Insert the image._\n",
        "\n",
        "**AI Level 1** is allowed to understand the concept, but you need to sketch the problem down by yourself.\n",
        "\n",
        "**Your effort is more important than the accuracy for this section**"
      ],
      "metadata": {
        "id": "r9EKMWjKIQP3"
      }
    },
    {
      "cell_type": "markdown",
      "source": [
        "## 2. Peer Review & Draft Code\n",
        "\n",
        "**Review Guidance:**  \n",
        "Visit the **\"Solutions\"** tab on LeetCode for the selected problem and review at least one top-rated solution. You may also search for relevant discussions or Q&A threads on **Stack Overflow** or other forums to understand how others approached the problem.\n",
        "\n",
        "Then, write your own version based on what you understood. The goal is not to copy but to apply what you learned. Always include links to the resources you reviewed.\n",
        "\n",
        "---\n",
        "\n",
        "### **Example Answer (for \"Palindrome Number\"):**\n",
        "\n",
        "I reviewed the top solution under the LeetCode “Solutions” tab and one post on Stack Overflow:  \n",
        "https://stackoverflow.com/questions/17129222/how-to-check-if-a-number-is-palindrome-in-python  \n",
        "\n",
        "I learned that I can reverse the integer using a loop with modulo and division instead of converting it to a string. Using this idea, I tried writing a function that reverses the number and compares it to the original.\n",
        "\n"
      ],
      "metadata": {
        "id": "aUHzVrY4cTX0"
      }
    },
    {
      "cell_type": "code",
      "source": [
        "# Your draft code here (does not need to be fully correct)\n"
      ],
      "metadata": {
        "id": "NPk65D2zciQV"
      },
      "execution_count": null,
      "outputs": []
    },
    {
      "cell_type": "markdown",
      "source": [
        "## 3. Final Correct Code\n",
        "\n",
        "_This version must pass all required test cases and handle edge cases correctly._\n",
        "\n",
        "At this stage, you may:\n",
        "- Use reviewed solutions or programming AI tools (e.g., ChatGPT, GitHub Copilot) to refine and fix errors.\n",
        "- Refactor your draft to ensure accuracy and completeness.\n",
        "\n",
        " **AI Level 4 is allowed**, but you **must include a disclaimer** that clearly states what tools you used, how you used them, and for which part of the code.\n"
      ],
      "metadata": {
        "id": "Om2fMRWLceyo"
      }
    },
    {
      "cell_type": "code",
      "source": [
        "# Final working solution\n",
        "# [AI Disclaimer example: Used ChatGPT with prompt “How to handle recursion base case” only for concept]\n"
      ],
      "metadata": {
        "id": "CukQ_t3xcuDV"
      },
      "execution_count": null,
      "outputs": []
    },
    {
      "cell_type": "markdown",
      "source": [
        "Add the screenshot of output for all the test cases from your working solutions."
      ],
      "metadata": {
        "id": "n-a6rKrlUyQP"
      }
    },
    {
      "cell_type": "markdown",
      "source": [
        "## 4. Review & Fixes\n",
        "_What did you improve from your draft? 2 fixes with your comments._\n",
        "\n"
      ],
      "metadata": {
        "id": "fJrDhzvMcxVN"
      }
    },
    {
      "cell_type": "code",
      "source": [
        "# Fix 1: Simplified bracket matching using a dictionary\n",
        "\n",
        "# Draft version (manual and repetitive logic)\n",
        "if char == \")\" and stack[-1] == \"(\": stack.pop()\n",
        "elif char == \"]\" and stack[-1] == \"[\": stack.pop()\n",
        "elif char == \"}\" and stack[-1] == \"{\": stack.pop()\n",
        "else: return False\n",
        "\n",
        "# Fixed version (cleaner and scalable)\n",
        "mapping = {\")\": \"(\", \"]\": \"[\", \"}\": \"{\"}\n",
        "if stack:\n",
        "    top = stack.pop()\n",
        "else:\n",
        "    top = \"#\"\n",
        "if mapping[char] != top:\n",
        "    return False\n"
      ],
      "metadata": {
        "id": "tzEAjBgfMtod"
      },
      "execution_count": null,
      "outputs": []
    },
    {
      "cell_type": "code",
      "source": [
        "# Fix 2: Prevented runtime error when stack is empty\n",
        "\n",
        "# Draft version: crashes if the stack is empty\n",
        "top = stack.pop()  # This causes IndexError if stack is empty\n",
        "\n",
        "# Fixed version: avoids crash by using fallback value\n",
        "top = stack.pop() if stack else '#'\n"
      ],
      "metadata": {
        "id": "ElfXHAqFMzQT"
      },
      "execution_count": null,
      "outputs": []
    },
    {
      "cell_type": "markdown",
      "source": [
        "## 5. Reflection on Your Contribution\n",
        "_Where did AI or Other's code helped or fail to help? What specific logic or debugging did you contribute yourself?_\n",
        "\n",
        "## Example\n",
        "1. I used ChatGPT (Level 4) to help identify an edge case where my draft code failed when the input string started with a closing bracket. I also used ChatGPT to help structure the final loop and mapping dictionary, but verified all logic myself by tracing the code.\n",
        "\n",
        "2.  I used ChatGPT to help write the loop. But the code had an indentation error after the `if` block, which caused it to fail. I fixed the spacing and made sure the code runs correctly.\n",
        "\n",
        "3. I used opensource code from Github. I found and fixed a logic bug where they used if s[i] == '(' or ')', which always returned True. I corrected it to properly check both conditions.\n",
        "\n"
      ],
      "metadata": {
        "id": "QfK-i2ITc4MU"
      }
    },
    {
      "cell_type": "markdown",
      "source": [
        "#  Repeat this template for Problems 2–5\n",
        "You may copy-paste the above section 4 more times or duplicate cells in your notebook environment.\n",
        "\n",
        "Remember:\n",
        "Proper attribution  \n",
        "No copy-pasting from AI or others  \n",
        "\n",
        "\n"
      ],
      "metadata": {
        "id": "USwRg1coc-BO"
      }
    },
    {
      "cell_type": "markdown",
      "source": [
        "1. Your Name:\n",
        "2. Section:\n",
        "3. ID:\n",
        "4. Github Link of this notebook:\n",
        "5. Chat/ (Saved Chat in a shared Document link)"
      ],
      "metadata": {
        "id": "SYt5mNEYdMHJ"
      }
    },
    {
      "cell_type": "markdown",
      "source": [
        "# **The most important part of writing code is not the code itself, but the thinking that leads to it. Thank You**"
      ],
      "metadata": {
        "id": "YR8usq_lVloZ"
      }
    }
  ]
}