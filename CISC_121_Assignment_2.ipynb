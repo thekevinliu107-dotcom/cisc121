{
  "cells": [
    {
      "cell_type": "markdown",
      "metadata": {
        "id": "view-in-github",
        "colab_type": "text"
      },
      "source": [
        "<a href=\"https://colab.research.google.com/github/thekevinliu107-dotcom/cisc121/blob/main/CISC_121_Assignment_2.ipynb\" target=\"_parent\"><img src=\"https://colab.research.google.com/assets/colab-badge.svg\" alt=\"Open In Colab\"/></a>"
      ]
    },
    {
      "cell_type": "markdown",
      "metadata": {
        "id": "MRScbkLTN3Mc"
      },
      "source": [
        "# **CISC 121 - Section 001 – Assignment 2**\n",
        "*Please copy this notebook to your own drive (File -> Save a copy in Drive) and work from there.*"
      ]
    },
    {
      "cell_type": "markdown",
      "metadata": {
        "id": "87bcdc76"
      },
      "source": [
        "## Part 1\n",
        "### Solve all the 3 problems following the template\n",
        "\n",
        "1. **Sum of Two Integers** — <https://leetcode.com/problems/sum-of-two-integers>\n",
        "2. **Convert Date to Binary** — <https://leetcode.com/problems/convert-date-to-binary>\n",
        "3. **Number of 1 Bits** — <https://leetcode.com/problems/number-of-1-bits>"
      ]
    },
    {
      "cell_type": "markdown",
      "metadata": {
        "id": "f960a31d"
      },
      "source": [
        "## Part 2\n",
        "### Solve 2 of the 3 problems from the followings following the given template\n",
        "\n",
        "1. **Reverse Integer** — <https://leetcode.com/problems/reverse-integer> tail\n",
        "2. **Reverse String** — <https://leetcode.com/problems/reverse-string> use head recursion\n",
        "3. **Reverse Pairs** — <https://leetcode.com/problems/reverse-pairs>\n",
        "\n",
        "### Note: the problems are ordered by difficulty."
      ]
    },
    {
      "cell_type": "markdown",
      "metadata": {
        "id": "KGKqcY70N3Md"
      },
      "source": [
        "\n",
        "\n",
        "1. Your Name: Kevin Liu\n",
        "2. Section: Cisc 121\n",
        "3. ID: 20523039\n",
        "4. Github or Colab link of this notebook:\n",
        "5. Links to Chats: Did not use (used suggestions from built in Gemini)\n"
      ]
    },
    {
      "cell_type": "markdown",
      "metadata": {
        "id": "creP6zY2Q96V"
      },
      "source": [
        "\n",
        "\n",
        "---\n",
        "\n"
      ]
    },
    {
      "cell_type": "markdown",
      "metadata": {
        "id": "rAwLuBzFZxf3"
      },
      "source": [
        "#  ***Problem 1 (DSA): Sum of Two Integers***"
      ]
    },
    {
      "cell_type": "markdown",
      "metadata": {
        "id": "r9EKMWjKIQP3"
      },
      "source": [
        "## 1. Understanding & Breakdown\n",
        "### **For Part 1 (Basic Data Structures and Algorithms Problems)**\n",
        "\n",
        "Problem Decomposition:\n",
        "Use two integers a and b, have to add them without using the actual add operator '+'. Print the result.\n",
        "\n",
        "Pattern Recognition:\n",
        "Other problems that also ask for the same thing, such as adding two numbers without the sum operator follow this pattern. This is best done through the bitwise XOR and AND. Remember use XOR for sum without carry and use AND shifted left for carry.\n",
        "\n",
        "Abstraction:\n",
        "Think of the variables with integers not as numbers themselves but as bitwise or rather binary. Basically abstracted into operations on bits and how to make sum and carry, of course using bitwise operators.\n",
        "\n",
        "Algorithmic Thinking:\n",
        "Inputs: Two integers that user inputs, a and b\n",
        "\n",
        "Outputs: Sum of a and b\n",
        "\n",
        "Constraints: Can't use +, handle negatives, use bitwise operators\n",
        "\n",
        "Variables Datatypes:\n",
        "a and b are int\n",
        "\n",
        "Operations Used and Why:\n",
        "^ gives sum bits without carry while & need a carry\n",
        "\n",
        "<< 1 shifts left\n",
        "\n",
        "while loop to iterate until no carry\n",
        "\n",
        "Data Collections (Structures) Used:\n",
        "None since only int are being used"
      ]
    },
    {
      "cell_type": "markdown",
      "metadata": {
        "id": "aUHzVrY4cTX0"
      },
      "source": [
        "## 2. Peer Review & Draft Code\n",
        "\n",
        "I reviewed the top solution under the LeetCode “Solutions” tab:\n",
        "https://leetcode.com/problems/sum-of-two-integers/solutions/6638421/conquer-addition-without-plus-using-bitwise-magic/. Reading through the solution, I realized my original idea of XOR and AND worked, because it was a way to avoid the sum operator by adding integers through bitwise.\n",
        "\n",
        "---"
      ]
    },
    {
      "cell_type": "code",
      "execution_count": 14,
      "metadata": {
        "id": "NPk65D2zciQV",
        "colab": {
          "base_uri": "https://localhost:8080/",
          "height": 106
        },
        "outputId": "839b4f45-e70f-4707-e20c-baa7c0897e48"
      },
      "outputs": [
        {
          "output_type": "error",
          "ename": "SyntaxError",
          "evalue": "invalid syntax (ipython-input-3433922378.py, line 13)",
          "traceback": [
            "\u001b[0;36m  File \u001b[0;32m\"/tmp/ipython-input-3433922378.py\"\u001b[0;36m, line \u001b[0;32m13\u001b[0m\n\u001b[0;31m    while\u001b[0m\n\u001b[0m         ^\u001b[0m\n\u001b[0;31mSyntaxError\u001b[0m\u001b[0;31m:\u001b[0m invalid syntax\n"
          ]
        }
      ],
      "source": [
        "# Your draft code here (does not need to be fully correct)\n",
        "# user inputs\n",
        "a = int(input(\"Enter first number: \"))\n",
        "b = int(input(\"Enter second number: \"))\n",
        "\n",
        "# call method\n",
        "result = sol.getSum(a, b)\n",
        "print(\"The sum of a and b is: \", result)\n",
        "\n",
        "# bitwise operators\n",
        "class Solution(object):\n",
        "    def getSum(self, a, b):\n",
        "        while\n",
        "        return"
      ]
    },
    {
      "cell_type": "markdown",
      "metadata": {
        "id": "8R0ItLfmRKxp"
      },
      "source": [
        "---\n"
      ]
    },
    {
      "cell_type": "markdown",
      "metadata": {
        "id": "Om2fMRWLceyo"
      },
      "source": [
        "## 3. Final Correct Code\n",
        "--------------"
      ]
    },
    {
      "cell_type": "code",
      "execution_count": null,
      "metadata": {
        "id": "CukQ_t3xcuDV",
        "colab": {
          "base_uri": "https://localhost:8080/"
        },
        "outputId": "24efafc4-0fa5-4321-880a-c65b84bd1d24"
      },
      "outputs": [
        {
          "output_type": "stream",
          "name": "stdout",
          "text": [
            "Enter first number: 3\n",
            "Enter second number: 2\n",
            "The sum of a and b is: 5\n"
          ]
        }
      ],
      "source": [
        "# Final working solution\n",
        "# Your draft code here (does not need to be fully correct)\n",
        "\n",
        "# bitwise operators\n",
        "class Solution(object):\n",
        "    def getSum(self, a, b):\n",
        "        a &= 0xffffffff\n",
        "        b &= 0xffffffff\n",
        "        while b:\n",
        "            c = (a & b) << 1\n",
        "            a = (a ^ b) & 0xffffffff\n",
        "            b = c & 0xffffffff\n",
        "        return a if a < 0x80000000 else ~(a ^ 0xffffffff)\n",
        "\n",
        "# user inputs\n",
        "a = int(input(\"Enter first number: \"))\n",
        "b = int(input(\"Enter second number: \"))\n",
        "\n",
        "# instance of solution\n",
        "sol = Solution()\n",
        "\n",
        "# call method\n",
        "result = sol.getSum(a, b)\n",
        "print(\"The sum of a and b is:\", result)"
      ]
    },
    {
      "cell_type": "markdown",
      "metadata": {
        "id": "n-a6rKrlUyQP"
      },
      "source": [
        "Add the screenshot of output for all the test cases from your working solutions.\n",
        "\n",
        "![image.png](data:image/png;base64,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)![image.png](data:image/png;base64,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)"
      ]
    },
    {
      "cell_type": "markdown",
      "metadata": {
        "id": "CSVCLsPgROHs"
      },
      "source": [
        "---"
      ]
    },
    {
      "cell_type": "markdown",
      "metadata": {
        "id": "fJrDhzvMcxVN"
      },
      "source": [
        "## 4. Review & Fixes\n",
        "\n",
        "_What did you improve, optimize from your draft? 2 fixes with your comments._\n",
        "\n",
        "If there is no imporvments possible, please describe how the final version meets all the Code Review Checklist items\n",
        "\n",
        "-------\n",
        "\n"
      ]
    },
    {
      "cell_type": "code",
      "execution_count": null,
      "metadata": {
        "id": "tzEAjBgfMtod"
      },
      "outputs": [],
      "source": [
        "# Fix 1:\n",
        "\n",
        "# Draft version (did not create instance of solution)\n",
        "# call method\n",
        "result = sol.getSum(a, b)\n",
        "print(\"The sum of a and b is: \", result)\n",
        "\n",
        "# Fixed version (better structure, easier to understand, and more functional)\n",
        "\n",
        "# create instance of solution\n",
        "sol = Solution()\n",
        "\n",
        "# call method\n",
        "result = sol.getSum(a, b)\n",
        "print(\"The sum of a and b is: \", result)\n"
      ]
    },
    {
      "cell_type": "code",
      "execution_count": null,
      "metadata": {
        "id": "ElfXHAqFMzQT"
      },
      "outputs": [],
      "source": [
        "# Fix 2:\n",
        "\n",
        "# Draft version (bitwise method was below all the print and calling codes)\n",
        "\n",
        "\n",
        "# Fixed version (moved bitwise to the very top)\n"
      ]
    },
    {
      "cell_type": "markdown",
      "metadata": {
        "id": "9RoAwjXsRPvQ"
      },
      "source": [
        "---"
      ]
    },
    {
      "cell_type": "markdown",
      "metadata": {
        "id": "QfK-i2ITc4MU"
      },
      "source": [
        "\n",
        "## 5. Reflection on Your Contribution\n"
      ]
    },
    {
      "cell_type": "markdown",
      "metadata": {
        "id": "AxxCiuXlBfSj"
      },
      "source": [
        "## Your answer:\n",
        "\n",
        "------"
      ]
    },
    {
      "cell_type": "markdown",
      "metadata": {
        "id": "xJk7l_CmRSQ9"
      },
      "source": [
        "-> I actually did not use ChatGPT for this one as the problem was relatively simple after I read through the solution on how XOR and AND works. It took a bit of understanding at first, how XOR cases work and AND, only adding the bits when there was no carry lefIn all honesty, I tried to replicate the solution code in my own way but it never worked since the solution did it best itself.\n",
        "\n"
      ]
    },
    {
      "cell_type": "markdown",
      "metadata": {
        "id": "w2X7eha_N3Mg"
      },
      "source": [
        "-----------"
      ]
    },
    {
      "cell_type": "markdown",
      "metadata": {
        "id": "Ee92wnlA_pd3"
      },
      "source": [
        "#  ***Problem 2 (DSA): Convert Date to Binary***"
      ]
    },
    {
      "cell_type": "markdown",
      "metadata": {
        "id": "LDPjr6_r_pd3"
      },
      "source": [
        "## 1. Understanding & Breakdown\n",
        "### **For Part 1 (Basic Data Structures and Algorithms Problems)**\n",
        "\n",
        "Problem Decomposition:\n",
        "Obtain a string variable with a date in the format of year, month and day\n",
        "I have to split it into 3 parts, year, month and day.\n",
        "Convert each part into binary with leading zeros intact.\n",
        "Finally join them back with the '-' in the yyyy-mm-dd format.\n",
        "Return in binary form with the dashes.\n",
        "\n",
        "Pattern Recognition:\n",
        "A lot of problems that ask for converting numbers to binary follow the same format. That is, convert components seperately then finally reassembling them in the original format. Now the pattern recognition part comes in which means it's just a pattern of parse then transform and output as the original format.\n",
        "\n",
        "Abstraction:\n",
        "Abstraction comes in when you have to seperate the meaning from what the date actually means. This means that to do this problem simply, I have to think of the dates as integers to be transformed into binary, just numbers to be converted essentially.\n",
        "\n",
        "Algorithmic Thinking:\n",
        "Inputs: A string with a length of 10, since yyyy-mm-dd is 10, y = 0 and d = 10 naturally. The hyphens would be at 4 and 7.\n",
        "\n",
        "Outputs: String with same format but in binary instead. Something like from the leetcode example: 100000100000-10-11101\n",
        "\n",
        "Constraints: Can't put extra leading zeros in the binary, meaning 5 is 101 not 0101. Has to be a valid date too.\n",
        "\n",
        "Variables Datatypes:\n",
        "date string\n",
        "\n",
        "year month and day strings\n",
        "\n",
        "year month and day integers\n",
        "\n",
        "binary year month and day strings\n",
        "\n",
        "Operations Used and Why:\n",
        "split - to break into components\n",
        "\n",
        "int() conversion string to int\n",
        "\n",
        "bin to convert int to binary str\n",
        "\n",
        "slicing to drop prefix and join to put parts together\n",
        "\n",
        "Data Collections (Structures) Used:\n",
        "a list to hold 3 parts after split\n",
        "\n",
        "str to hold the binary parts"
      ]
    },
    {
      "cell_type": "markdown",
      "metadata": {
        "id": "OFiHZKaE_pd3"
      },
      "source": [
        "## 2. Peer Review & Draft Code\n",
        "\n",
        "**Review Guidance:**  \n",
        "\n",
        "I reviewed the top solution under the LeetCode “Solutions” tab:\n",
        "https://leetcode.com/problems/convert-date-to-binary/submissions/1382943233/. I saw that they also transformed it so I tried doing my own version with Colab autofill.\n",
        "\n",
        "---\n"
      ]
    },
    {
      "cell_type": "code",
      "execution_count": 5,
      "metadata": {
        "id": "bc9pp5G0_pd4",
        "colab": {
          "base_uri": "https://localhost:8080/",
          "height": 106
        },
        "outputId": "6e31b7e5-fff3-4f85-c84d-d1485c545bda"
      },
      "outputs": [
        {
          "output_type": "error",
          "ename": "SyntaxError",
          "evalue": "invalid syntax (ipython-input-2654928140.py, line 4)",
          "traceback": [
            "\u001b[0;36m  File \u001b[0;32m\"/tmp/ipython-input-2654928140.py\"\u001b[0;36m, line \u001b[0;32m4\u001b[0m\n\u001b[0;31m    binaries []\u001b[0m\n\u001b[0m              ^\u001b[0m\n\u001b[0;31mSyntaxError\u001b[0m\u001b[0;31m:\u001b[0m invalid syntax\n"
          ]
        }
      ],
      "source": [
        "# Your draft code here (does not need to be fully correct)\n",
        "def convertDateToBinary(self, date: str) -> str:\n",
        "  parts = date.split('-')\n",
        "  binaries []\n",
        "  for part in parts:\n",
        "    binary = bin(num)[3:]\n",
        "    binaries.append(binary)\n",
        "  return"
      ]
    },
    {
      "cell_type": "markdown",
      "metadata": {
        "id": "-vQPYm0I_pd5"
      },
      "source": [
        "---\n"
      ]
    },
    {
      "cell_type": "markdown",
      "metadata": {
        "id": "cGQ9l2ha_pd5"
      },
      "source": [
        "## 3. Final Correct Code\n",
        "\n",
        "--------------"
      ]
    },
    {
      "cell_type": "code",
      "execution_count": null,
      "metadata": {
        "id": "wOhT3dbJ_pd5",
        "colab": {
          "base_uri": "https://localhost:8080/"
        },
        "outputId": "6e40f369-2737-4e69-a10a-2d98ca01467c"
      },
      "outputs": [
        {
          "output_type": "stream",
          "name": "stdout",
          "text": [
            "Enter date in yyyy-mm-dd format: 1751-02-29\n",
            "The binary representation of the date is:  Invalid date format or invalid date.\n"
          ]
        }
      ],
      "source": [
        "# Final working solution\n",
        "# binary conversion\n",
        "import datetime\n",
        "\n",
        "class Solution(object):\n",
        "    def convertDateToBinary(self, date: str) -> str:\n",
        "        try:\n",
        "            # parse data string and raise error\n",
        "            date_obj = datetime.datetime.strptime(date, '%Y-%m-%d')\n",
        "\n",
        "            # check if date is within gregorian calender\n",
        "            if date_obj < datetime.datetime(1900, 1, 1) or date_obj > datetime.datetime(2100, 12, 31):\n",
        "                return \"Date is outside the allowed range (1900-2100).\"\n",
        "\n",
        "            parts = date.split('-')\n",
        "            binaries = []\n",
        "            for part in parts:\n",
        "                num = int(part)\n",
        "                binary = bin(num)[2:]\n",
        "                binaries.append(binary)\n",
        "            return '-'.join(binaries)\n",
        "        except ValueError:\n",
        "            return \"Invalid date format or invalid date.\"\n",
        "\n",
        "# user inputs\n",
        "userDate = input(\"Enter date in yyyy-mm-dd format: \")\n",
        "\n",
        "# instance of solution\n",
        "sol = Solution()\n",
        "\n",
        "# call method and print result\n",
        "binary_date = sol.convertDateToBinary(userDate)\n",
        "print(\"The binary representation of the date is: \", binary_date)\n",
        "\n",
        "# Used Gemini with prompt “Can you add date validity with regards to the gregorian calender\""
      ]
    },
    {
      "cell_type": "markdown",
      "metadata": {
        "id": "Uz3qNdfR_pd5"
      },
      "source": [
        "Add the screenshot of output for all the test cases from your working solutions.\n",
        "![image.png](data:image/png;base64,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)\n",
        "![image.png](data:image/png;base64,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)"
      ]
    },
    {
      "cell_type": "markdown",
      "metadata": {
        "id": "bQImrvgc_pd5"
      },
      "source": [
        "---"
      ]
    },
    {
      "cell_type": "markdown",
      "metadata": {
        "id": "umZY8G8u_pd5"
      },
      "source": [
        "## 4. Review & Fixes\n",
        "\n",
        "_What did you improve, optimize from your draft? 2 fixes with your comments._\n",
        "\n",
        "If there is no imporvments possible, please describe how the final version meets all the Code Review Checklist items\n",
        "\n",
        "-------\n",
        "\n"
      ]
    },
    {
      "cell_type": "code",
      "execution_count": null,
      "metadata": {
        "id": "QvRuylqM_pd5"
      },
      "outputs": [],
      "source": [
        "# Fix 1:\n",
        "\n",
        "# Draft version (stupid syntax error)\n",
        "def convertDateToBinary(self, date: str) -> str:\n",
        "  parts = date.split('-')\n",
        "  binaries []\n",
        "  for part in parts:\n",
        "    num = int(part)\n",
        "    binary = bin(num)[2:]\n",
        "    binaries.append(binary)\n",
        "  return '-'.join(binaries)\n",
        "\n",
        "# Fixed version (better structure, easier to understand, and more functional)\n",
        "def convertDateToBinary(self, date: str) -> str:\n",
        "  parts = date.split('-')\n",
        "  binaries = []\n",
        "  for part in parts:\n",
        "    num = int(part)\n",
        "    binary = bin(num)[2:]\n",
        "    binaries.append(binary)\n",
        "  return '-'.join(binaries)"
      ]
    },
    {
      "cell_type": "code",
      "execution_count": null,
      "metadata": {
        "id": "XjU9bkLQ_pd5"
      },
      "outputs": [],
      "source": [
        "# Fix 2:\n",
        "\n",
        "# Draft version (sliced at wrong interval)\n",
        "binary = bin(num)[3:]\n",
        "\n",
        "\n",
        "# Fixed version (should be 2)\n",
        "binary = bin(num)[2:]"
      ]
    },
    {
      "cell_type": "markdown",
      "metadata": {
        "id": "vVLB8aSQ_pd5"
      },
      "source": [
        "---"
      ]
    },
    {
      "cell_type": "markdown",
      "metadata": {
        "id": "ay-HZFo9_pd5"
      },
      "source": [
        "\n",
        "## 5. Reflection on Your Contribution\n"
      ]
    },
    {
      "cell_type": "markdown",
      "metadata": {
        "id": "ZAntro2F_pd6"
      },
      "source": [
        "## Your answer:\n",
        "\n",
        "------"
      ]
    },
    {
      "cell_type": "markdown",
      "metadata": {
        "id": "3GHJ3gQY_pd6"
      },
      "source": [
        "-> I used Gemini to properly and accurately pass the user input into the solution class but some of the code in the solution class was indented wrong so I had to meticulously indent it line by line to make it work.\n",
        "\n",
        "\n"
      ]
    },
    {
      "cell_type": "markdown",
      "metadata": {
        "id": "r1LiuoMI_pd6"
      },
      "source": [
        "-----------"
      ]
    },
    {
      "cell_type": "markdown",
      "metadata": {
        "id": "79dxtQ2Y_wj-"
      },
      "source": [
        "#  ***Problem 3 (DSA): Number of 1 Bits***"
      ]
    },
    {
      "cell_type": "markdown",
      "metadata": {
        "id": "vfkE_Yfn_wj-"
      },
      "source": [
        "## 1. Understanding & Breakdown\n",
        "### **For Part 1 (Basic Data Structures and Algorithms Problems)**\n",
        "\n",
        "Problem Decomposition:\n",
        "Receive positive integer n and convert to binary representation. Then count how many bits are 1 and return that counted value.\n",
        "\n",
        "Pattern Recognition:\n",
        "There are many other problems like this that use bitwise operators like n & 1 + right shift. This is because counting set bits is a problem that is integrated in many leetcode problems, since hamming weight is a common recurrence.\n",
        "\n",
        "Abstraction:\n",
        "Just see n as a sequence of bits instead of positive integer, that is decimal meaning. Really focus on the 1's.\n",
        "\n",
        "Algorithmic Thinking:\n",
        "Inputs: integer n\n",
        "Outputs: integer count of number of 1 bits\n",
        "Constraints: efficient and handle up to 32 bits\n",
        "\n",
        "Variables Datatypes:\n",
        "n int\n",
        "count int\n",
        "\n",
        "Operations Used and Why:\n",
        "& 1 least significant bit\n",
        "\n",
        "\">>=\" 1 shift bits so that code can process next bit\n",
        "\n",
        "& (n-1) trick to remove one set bit at a time (I searched this one up)\n",
        "\n",
        "Loop until done code\n",
        "\n",
        "Data Collections (Structures) Used:\n",
        "None"
      ]
    },
    {
      "cell_type": "markdown",
      "metadata": {
        "id": "MVn6aSuE_wj-"
      },
      "source": [
        "## 2. Peer Review & Draft Code\n",
        "\n",
        "**Review Guidance:**  \n",
        "I reviewed the top solution under the LeetCode “Solutions” tab:\n",
        "https://leetcode.com/problems/number-of-1-bits/solutions/644682/easy-to-understand-faster-than-98-2-solutions-simple-python/. The solution tells me to use a counter and the whilte code and so this is my attempt at something losely based on that solution.\n",
        "\n",
        "---\n"
      ]
    },
    {
      "cell_type": "code",
      "execution_count": null,
      "metadata": {
        "id": "sPFkPxWx_wj_"
      },
      "outputs": [],
      "source": [
        "# Your draft code here (does not need to be fully correct)\n",
        "\n",
        "class Solution(object)\n",
        "  def hammingWeight(self, n):\n",
        "    count = 0\n",
        "    while n:\n",
        "      count += n & 1\n",
        "      n >>= 1\n",
        "    return count"
      ]
    },
    {
      "cell_type": "markdown",
      "metadata": {
        "id": "o_28pUCj_wj_"
      },
      "source": [
        "---\n"
      ]
    },
    {
      "cell_type": "markdown",
      "metadata": {
        "id": "WYv6VaTS_wj_"
      },
      "source": [
        "## 3. Final Correct Code\n",
        "\n",
        "--------------"
      ]
    },
    {
      "cell_type": "code",
      "execution_count": 4,
      "metadata": {
        "id": "MbPNqC1k_wj_",
        "colab": {
          "base_uri": "https://localhost:8080/"
        },
        "outputId": "b113791e-827d-44d7-fd3c-177ba824c5fe"
      },
      "outputs": [
        {
          "output_type": "stream",
          "name": "stdout",
          "text": [
            "Enter a number: 1\n",
            "The input binary string 1 has a total of 1 set bits.\n"
          ]
        }
      ],
      "source": [
        "# Final working solution\n",
        "\n",
        "class Solution(object):\n",
        "  def hammingWeight(self, n):\n",
        "    count = 0\n",
        "    while n != 0:\n",
        "      n &= (n - 1) # clears the lowest 1 bit instead of shifting, more optimized using Brian Kernighan way\n",
        "      count += 1\n",
        "    return count\n",
        "\n",
        "# user inputs\n",
        "userNum = int(input(\"Enter a number: \"))\n",
        "\n",
        "# instance of solution\n",
        "sol = Solution()\n",
        "\n",
        "# call method\n",
        "result = sol.hammingWeight(userNum)\n",
        "\n",
        "# convert the user input to its binary string representation\n",
        "binary_userNum = bin(userNum)[2:] # slicing [2:] to remove the '0b' prefix\n",
        "\n",
        "print(\"The input binary string\", binary_userNum, \"has a total of\", result, \"set bits.\")"
      ]
    },
    {
      "cell_type": "markdown",
      "metadata": {
        "id": "mSIzhGyw_wj_"
      },
      "source": [
        "Add the screenshot of output for all the test cases from your working solutions.\n",
        "![image.png](data:image/png;base64,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)\n",
        "![image.png](data:image/png;base64,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)![image.png](data:image/png;base64,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)"
      ]
    },
    {
      "cell_type": "markdown",
      "metadata": {
        "id": "YZLtq1Tf_wj_"
      },
      "source": [
        "---"
      ]
    },
    {
      "cell_type": "markdown",
      "metadata": {
        "id": "M3V9R7d-_wj_"
      },
      "source": [
        "## 4. Review & Fixes\n",
        "\n",
        "_What did you improve, optimize from your draft? 2 fixes with your comments._\n",
        "\n",
        "If there is no imporvments possible, please describe how the final version meets all the Code Review Checklist items\n",
        "\n",
        "-------\n",
        "\n"
      ]
    },
    {
      "cell_type": "code",
      "execution_count": null,
      "metadata": {
        "id": "Yk0eUHeC_wj_"
      },
      "outputs": [],
      "source": [
        "# Fix 1:\n",
        "\n",
        "# Draft version (syntax again because I was typing too fast)\n",
        "class Solution(object)\n",
        "\n",
        "# Fixed version (colon)\n",
        "class Solution(object):\n"
      ]
    },
    {
      "cell_type": "code",
      "execution_count": null,
      "metadata": {
        "id": "FsmF8x02_wj_"
      },
      "outputs": [],
      "source": [
        "# Fix 2:\n",
        "\n",
        "# Draft version (did not know about Brian Kernighan before this)\n",
        "n >>= 1\n",
        "\n",
        "# Fixed version: (adjusted for the new version)\n",
        "n &= (n - 1)"
      ]
    },
    {
      "cell_type": "markdown",
      "metadata": {
        "id": "tZirqAp-_wj_"
      },
      "source": [
        "---"
      ]
    },
    {
      "cell_type": "markdown",
      "metadata": {
        "id": "XBSidjAG_wkA"
      },
      "source": [
        "\n",
        "## 5. Reflection on Your Contribution\n",
        "\n"
      ]
    },
    {
      "cell_type": "markdown",
      "metadata": {
        "id": "dGY1Urri_wkA"
      },
      "source": [
        "## Your answer:\n",
        "\n",
        "------"
      ]
    },
    {
      "cell_type": "markdown",
      "metadata": {
        "id": "Oan7eOp7_wkA"
      },
      "source": [
        "-> When I initally did the draft code with the manual shift, I looked at other top solutions and searched up on google the hammingWeight problem and saw that there was a dedicated, or well known efficient solution to this. That is why I switched from my draft of using that shift to the Brian Kernighan version.\n",
        "\n"
      ]
    },
    {
      "cell_type": "markdown",
      "metadata": {
        "id": "lwtS7zcD_wkA"
      },
      "source": [
        "-----------"
      ]
    },
    {
      "cell_type": "markdown",
      "metadata": {
        "id": "dqWYJonUAKw9"
      },
      "source": [
        "#  ***Problem 4 (Recursion): Reverse Integer***"
      ]
    },
    {
      "cell_type": "markdown",
      "metadata": {
        "id": "DXnEuZ-yAKw-"
      },
      "source": [
        "## 1. Understanding & Breakdown\n",
        "### **For Part 2 (Recursion Problems)**\n",
        "\n",
        "Problem Decomposition:\n",
        "Get last digit of number, add it to growing reversed number, and then stop when there are no digits left.\n",
        "\n",
        "Pattern Recognition:\n",
        "Attach to end of reversed one after removing one digit from the original number with each step.\n",
        "\n",
        "Abstraction: Focus only on numbers and moving them, ignore details of how numbers are stored.\n",
        "\n",
        "Algorithmic Thinking:\n",
        "Inputs: x integer, positive or negative\n",
        "\n",
        "Outputs: Reversed integer\n",
        "\n",
        "Constraints: -2^31 <= x <= 2^31 - 1 stay within 32 bit range\n",
        "\n",
        "Subproblems:\n",
        "Calls have to reverse remaining parts of the number after taking off last digit.\n",
        "\n",
        "Base and Recursive Steps:\n",
        "Return reversed number at base case.\n",
        "\n",
        "Recursive Step: Take last digit, add to reversed, call function again\n",
        "\n",
        "Call Stack:\n",
        "Call stack does not keep old states because it is tail recursion.\n",
        "\n",
        "Head, Tail, Parameterized, and/or Functional Recursion:\n",
        "Tail recursion because recursive call happens last.\n",
        "\n",
        "Subproblems Combined:\n",
        "Combined as we go down, not after returning. Basically each step builds the reversed number like what I said before, by the time base case returns and stops the recursion the number is reversed.\n",
        "\n",
        "Comparison to Other Recursive:\n",
        "Tail works before returning and result is built going down. Head works after returning and result is built going up.\n",
        "\n",
        "Comparison to Iterative Solution:\n",
        "Iterative version while loop.\n",
        "\n",
        "How to Change?:\n",
        "For example, to change to head recursion I would need to only add digits after returning, less efficient for numbers."
      ]
    },
    {
      "cell_type": "markdown",
      "metadata": {
        "id": "t6-YJIv7AKw_"
      },
      "source": [
        "## 2. Peer Review & Draft Code\n",
        "\n",
        "**Review Guidance:**  \n",
        "\n",
        "I reviewed the top solution under the LeetCode “Solutions” tab:\n",
        "https://leetcode.com/problems/reverse-integer/solutions/6354708/elegant-python3-solution-with-detailed-explanation/. The solution uses a different method but I have to use tail recursion so I'll be trying to do that with AI assistance.\n",
        "\n",
        "---\n"
      ]
    },
    {
      "cell_type": "code",
      "execution_count": null,
      "metadata": {
        "id": "kqlhn_FzAKw_"
      },
      "outputs": [],
      "source": [
        "# Your draft code here (does not need to be fully correct)\n",
        "class Solution:\n",
        "    def reverse_helper(x, rev=0):\n",
        "      # base case\n",
        "      if x == 0:\n",
        "        return rev\n",
        "      return self.reverse_helper(x // 10, rev * 10)\n",
        "\n",
        "# get user input\n",
        "userNum = int(input(\"Enter an integer: \"))\n",
        "\n",
        "# instance of Solution\n",
        "sol = Solution()\n",
        "\n",
        "# call method\n",
        "result = sol.reverse(userNum)\n",
        "\n",
        "# print result\n",
        "print(\"Reversed integer:\", result)"
      ]
    },
    {
      "cell_type": "markdown",
      "metadata": {
        "id": "lVMPmd2wAKw_"
      },
      "source": [
        "---\n"
      ]
    },
    {
      "cell_type": "markdown",
      "metadata": {
        "id": "wsSNkNSgAKw_"
      },
      "source": [
        "## 3. Final Correct Code\n",
        "\n",
        "--------------"
      ]
    },
    {
      "cell_type": "code",
      "execution_count": 2,
      "metadata": {
        "id": "QAWd-rm_AKxA",
        "colab": {
          "base_uri": "https://localhost:8080/"
        },
        "outputId": "db264aa2-9f07-440d-f93d-239f81b1b821"
      },
      "outputs": [
        {
          "output_type": "stream",
          "name": "stdout",
          "text": [
            "Enter an integer: 520\n",
            "Reversed integer: 25\n"
          ]
        }
      ],
      "source": [
        "# Final working solution\n",
        "class Solution:\n",
        "    # method for recursion\n",
        "    def reverse_helper(self, x, rev=0):\n",
        "        # base case\n",
        "        if x == 0:\n",
        "            return rev\n",
        "\n",
        "        # last digit\n",
        "        digit = x % 10\n",
        "\n",
        "        # the updated reverse number and sending back to recursion method\n",
        "        return self.reverse_helper(x // 10, rev * 10 + digit)\n",
        "\n",
        "    # main method to reverse integer\n",
        "    def reverse(self, x):\n",
        "        # sign\n",
        "        sign = -1 if x < 0 else 1\n",
        "        x *= sign  # make positive\n",
        "\n",
        "        # reverse digits using helper function\n",
        "        result = self.reverse_helper(x)\n",
        "        result *= sign  # reapply sign\n",
        "\n",
        "        # 32-bit integer check\n",
        "        if result < -2**31 or result > 2**31 - 1:\n",
        "            return 0\n",
        "\n",
        "        return result\n",
        "\n",
        "# get user input\n",
        "userNum = int(input(\"Enter an integer: \"))\n",
        "\n",
        "# instance of Solution\n",
        "sol = Solution()\n",
        "\n",
        "# call method\n",
        "result = sol.reverse(userNum)\n",
        "\n",
        "# print result\n",
        "print(\"Reversed integer:\", result)\n",
        "\n",
        "# [AI Disclaimer example: Used ChatGPT with prompt “How to properly integrate helper and main method”]\n"
      ]
    },
    {
      "cell_type": "markdown",
      "metadata": {
        "id": "7PQW83jCAKxA"
      },
      "source": [
        "Add the screenshot of output for all the test cases from your working solutions.\n",
        "\n",
        "![image.png](data:image/png;base64,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)\n",
        "![image.png](data:image/png;base64,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)\n",
        "![image.png](data:image/png;base64,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)"
      ]
    },
    {
      "cell_type": "markdown",
      "metadata": {
        "id": "tjo6o1UUAKxA"
      },
      "source": [
        "---"
      ]
    },
    {
      "cell_type": "markdown",
      "metadata": {
        "id": "rDgxga4hAKxA"
      },
      "source": [
        "## 4. Review & Fixes\n",
        "\n",
        "_What did you improve, optimize from your draft? 2 fixes with your comments._\n",
        "\n",
        "If there is no imporvments possible, please describe how the final version meets all the Code Review Checklist items\n",
        "\n",
        "-------\n",
        "\n"
      ]
    },
    {
      "cell_type": "code",
      "execution_count": null,
      "metadata": {
        "id": "8V4OAdmsAKxA"
      },
      "outputs": [],
      "source": [
        "# Fix 1:\n",
        "\n",
        "# Draft version (did not function)\n",
        "class Solution:\n",
        "    # helper method for recursion\n",
        "    def reverse_helper(self, x, rev=0):\n",
        "        # base case: stop when no digits left\n",
        "        if x == 0:\n",
        "            return rev\n",
        "\n",
        "# Fixed version (added digit modulo)\n",
        "# get the last digit\n",
        "        digit = x % 10"
      ]
    },
    {
      "cell_type": "code",
      "execution_count": null,
      "metadata": {
        "id": "8Fq7MOXZAKxA"
      },
      "outputs": [],
      "source": [
        "# Fix 2:\n",
        "\n",
        "# Draft version (missed + digit important)\n",
        "# Update reversed number and recurse\n",
        "        return self.reverse_helper(x // 10, rev * 10)\n",
        "\n",
        "# Fixed version (fixed version should update the reversed number I'm building)\n",
        "# Update reversed number and recurse\n",
        "        return self.reverse_helper(x // 10, rev * 10 + digit)\n"
      ]
    },
    {
      "cell_type": "markdown",
      "metadata": {
        "id": "NQXd76_6AKxA"
      },
      "source": [
        "---"
      ]
    },
    {
      "cell_type": "markdown",
      "metadata": {
        "id": "uKSykW32AKxA"
      },
      "source": [
        "\n",
        "## 5. Reflection on Your Contribution"
      ]
    },
    {
      "cell_type": "markdown",
      "metadata": {
        "id": "JUqYjdpJAKxA"
      },
      "source": [
        "## Your answer:\n",
        "\n",
        "------"
      ]
    },
    {
      "cell_type": "markdown",
      "metadata": {
        "id": "bbNTitU-AKxB"
      },
      "source": [
        "-> I used Gemini for this since when I reviewed the recursion slides, it only helped me understand this problem at this core. To actually use the code, I had to ask Gemini how to, for example, actually build my reversed number after recursing.\n",
        "\n"
      ]
    },
    {
      "cell_type": "markdown",
      "metadata": {
        "id": "Srrl7guPAKxB"
      },
      "source": [
        "-----------"
      ]
    },
    {
      "cell_type": "markdown",
      "metadata": {
        "id": "WI3s2okyALrQ"
      },
      "source": [
        "#  ***Problem 5 (Recursion): Reverse String***"
      ]
    },
    {
      "cell_type": "markdown",
      "metadata": {
        "id": "so9MG7o7ALrQ"
      },
      "source": [
        "## 1. Understanding & Breakdown\n",
        "### **For Part 2 (Recursion Problems)**\n",
        "\n",
        "Problem Decomposition:\n",
        "Take the first character off string, reverse rest using recursion, build the reversed string much like using tail recursion but this time using head recursion. Add first character to end of reversed part. Repeat until string is one character long.\n",
        "\n",
        "Pattern Recognition:\n",
        "Smaller parts behaves the same way as the whole, e.g. abcd becomes bcd, cd, then d.\n",
        "\n",
        "Abstraction:\n",
        "Ignore what each character actually represents and focus on their positions. Basically focus on first character and the rest of the string. Then build new reversed string by combining in that reversed order.\n",
        "\n",
        "Algorithmic Thinking:\n",
        "Inputs: A string with variable s\n",
        "\n",
        "Outputs: Reversed string\n",
        "\n",
        "Constraints: Can't use built in reversing like the slice code s[::-1]. Have to use head recursion which will be challenging."
      ]
    },
    {
      "cell_type": "markdown",
      "metadata": {
        "id": "VJcZZeaZALrR"
      },
      "source": [
        "## 2. Peer Review & Draft Code\n",
        "\n",
        "I reviewed the top solution under the LeetCode “Solutions” tab: https://leetcode.com/problems/reverse-string/solutions/6635496/master-the-in-place-swap-trick-to-reverse-any-string-efficiently/. The solution only uses an iterative solution through the while code and I'm strictly restricted to heaad recursion. It was still a straightforward and easy to understand block of code to read nevertheless.\n",
        "\n",
        "---\n"
      ]
    },
    {
      "cell_type": "code",
      "execution_count": null,
      "metadata": {
        "id": "pGYUxbT2ALrR"
      },
      "outputs": [],
      "source": [
        "# Your draft code here (does not need to be fully correct)\n",
        "class Solution:\n",
        "    def reverseString(self, s: list[str]) -> None:\n",
        "\n",
        "      self.reverse_helper(s, 0, len(s) - 1)\n",
        "\n",
        "# get user input\n",
        "userStr = (input(\"Enter an integer: \"))\n",
        "\n",
        "# instance of Solution\n",
        "sol = Solution()\n",
        "\n",
        "# call method\n",
        "result = sol.reverse(userStr)\n",
        "\n",
        "# print result\n",
        "print(\"Reversed string:\", result)"
      ]
    },
    {
      "cell_type": "markdown",
      "metadata": {
        "id": "a4OaRixbALrR"
      },
      "source": [
        "---\n"
      ]
    },
    {
      "cell_type": "markdown",
      "metadata": {
        "id": "XnU77MofALrR"
      },
      "source": [
        "## 3. Final Correct Code\n",
        "\n",
        "_This version must pass all required test cases and handle edge cases correctly. Please provide screenshots from Leetcode_\n",
        "\n",
        "At this stage, you may:\n",
        "- Review solutions using AI tools (e.g., ChatGPT, GitHub Copilot) to add ***comments*** and error handeling, refine, improve, and if there are any, fix errors.\n",
        "    -   Tip: Use PROMPT and CoT methods\n",
        "- Refactor your draft to ensure accuracy, completeness, follow the Code Review checklist.\n",
        "\n",
        "### Don't forget to add comments!\n",
        "\n",
        " **AI Level 4 is allowed**, but you **must include a disclaimer** that clearly states what tools you used, how you used them, and for which part of the code.\n",
        "\n",
        "--------------"
      ]
    },
    {
      "cell_type": "code",
      "execution_count": 11,
      "metadata": {
        "id": "kfIt-cstALrR",
        "colab": {
          "base_uri": "https://localhost:8080/"
        },
        "outputId": "dda25d91-e3ff-42e5-9385-7e8b502dbd8e"
      },
      "outputs": [
        {
          "output_type": "stream",
          "name": "stdout",
          "text": [
            "Enter a word: gOoD bYe\n",
            "Reversed list of characters: [\"e\",\"Y\",\"b\",\" \",\"D\",\"o\",\"O\",\"g\"]\n"
          ]
        }
      ],
      "source": [
        "# Final working solution\n",
        "class Solution:\n",
        "\n",
        "    def reverse_helper(self, s: list[str], left: int, right: int) -> None:\n",
        "        # base case\n",
        "        if left >= right:\n",
        "            return\n",
        "\n",
        "        # swap\n",
        "        s[left], s[right] = s[right], s[left]\n",
        "\n",
        "        # recurse on the inner substring\n",
        "        self.reverse_helper(s, left + 1, right - 1)\n",
        "\n",
        "\n",
        "    def reverse(self, s: list[str]) -> None:\n",
        "        # call helper for both ends\n",
        "        self.reverse_helper(s, 0, len(s) - 1)\n",
        "\n",
        "# get user input as a string and convert to a list of characters\n",
        "userList = list(input(\"Enter a word: \"))\n",
        "\n",
        "# instance of Solution\n",
        "sol = Solution()\n",
        "\n",
        "# call method\n",
        "sol.reverse(userList)\n",
        "\n",
        "# print the reversed list of characters with double quotes\n",
        "formatted_output = '[\"' + '\",\"'.join(userList) + '\"]'\n",
        "print(\"Reversed list of characters:\", formatted_output)\n",
        "\n",
        "# [AI Disclaimer example: Used ChatGPT with prompt “How to make the reverse helper and swap work properly”]"
      ]
    },
    {
      "cell_type": "markdown",
      "metadata": {
        "id": "7AbDUA4XALrS"
      },
      "source": [
        "Add the screenshot of output for all the test cases from your working solutions.\n",
        "![image.png](data:image/png;base64,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)![image.png](data:image/png;base64,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)"
      ]
    },
    {
      "cell_type": "markdown",
      "metadata": {
        "id": "hVKvycweALrS"
      },
      "source": [
        "---"
      ]
    },
    {
      "cell_type": "markdown",
      "metadata": {
        "id": "v0sC-f-CALrS"
      },
      "source": [
        "## 4. Review & Fixes\n",
        "\n",
        "_What did you improve, optimize from your draft? 2 fixes with your comments._\n",
        "\n",
        "If there is no imporvments possible, please describe how the final version meets all the Code Review Checklist items\n",
        "\n",
        "-------\n",
        "\n"
      ]
    },
    {
      "cell_type": "code",
      "execution_count": null,
      "metadata": {
        "id": "SAqUulW4ALrS"
      },
      "outputs": [],
      "source": [
        "# Fix 1:\n",
        "\n",
        "# Draft version (missing parameters)\n",
        "    def reverseString(self, s: list[str]) -> None:\n",
        "\n",
        "# Fixed version (fixed parameters)\n",
        "    def reverse_helper(self, s: list[str], left: int, right: int) -> None:"
      ]
    },
    {
      "cell_type": "code",
      "execution_count": null,
      "metadata": {
        "id": "dQsAJLuaALrS"
      },
      "outputs": [],
      "source": [
        "# Fix 2:\n",
        "\n",
        "# Draft version (needed swap)\n",
        "\n",
        "\n",
        "# Fixed version (added swap for outside)\n",
        "# swap\n",
        "        s[left], s[right] = s[right], s[left]"
      ]
    },
    {
      "cell_type": "markdown",
      "metadata": {
        "id": "_StnIRb9ALrS"
      },
      "source": [
        "---"
      ]
    },
    {
      "cell_type": "markdown",
      "metadata": {
        "id": "UUBuG58lALrS"
      },
      "source": [
        "\n",
        "## 5. Reflection on Your Contribution\n"
      ]
    },
    {
      "cell_type": "markdown",
      "metadata": {
        "id": "JtOvGOasALrS"
      },
      "source": [
        "## Your answer:\n",
        "\n",
        "------"
      ]
    },
    {
      "cell_type": "markdown",
      "metadata": {
        "id": "7S_i4dkuALrS"
      },
      "source": [
        "-> At first I tried using the in class slide's example to write my head recursion code as you can see from my draft. From there, I realized it was a lot like the previous reverse integer problem but I did not know how to properly write the reverse helper function. I used Gemini to polish up my otherwise disorderly code.\n",
        "\n"
      ]
    },
    {
      "cell_type": "markdown",
      "metadata": {
        "id": "M5xgHmgNALrT"
      },
      "source": [
        "-----------"
      ]
    }
  ],
  "metadata": {
    "colab": {
      "provenance": [],
      "include_colab_link": true
    },
    "kernelspec": {
      "display_name": "Python 3",
      "name": "python3"
    },
    "language_info": {
      "name": "python"
    },
    "title": "CISC 121 – Assignment 2"
  },
  "nbformat": 4,
  "nbformat_minor": 0
}